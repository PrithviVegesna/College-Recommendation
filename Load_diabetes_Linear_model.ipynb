{
  "nbformat": 4,
  "nbformat_minor": 0,
  "metadata": {
    "colab": {
      "provenance": [],
      "authorship_tag": "ABX9TyPXpJNrxRvHeAszgxTIYZlI",
      "include_colab_link": true
    },
    "kernelspec": {
      "name": "python3",
      "display_name": "Python 3"
    },
    "language_info": {
      "name": "python"
    }
  },
  "cells": [
    {
      "cell_type": "markdown",
      "metadata": {
        "id": "view-in-github",
        "colab_type": "text"
      },
      "source": [
        "<a href=\"https://colab.research.google.com/github/PrithviVegesna/College-Recommendation/blob/main/Load_diabetes_Linear_model.ipynb\" target=\"_parent\"><img src=\"https://colab.research.google.com/assets/colab-badge.svg\" alt=\"Open In Colab\"/></a>"
      ]
    },
    {
      "cell_type": "code",
      "execution_count": 207,
      "metadata": {
        "colab": {
          "base_uri": "https://localhost:8080/"
        },
        "id": "9f4u2aYm0XBj",
        "outputId": "7e86fc0d-5ddc-4f5e-f0d1-6f464e0876f8"
      },
      "outputs": [
        {
          "output_type": "stream",
          "name": "stdout",
          "text": [
            "(89, 10)\n"
          ]
        }
      ],
      "source": [
        "import torch\n",
        "import numpy as np\n",
        "import matplotlib\n",
        "import matplotlib.pyplot as plt\n",
        "import pandas as pd\n",
        "import torch.nn as nn\n",
        "from sklearn.model_selection import train_test_split\n",
        "from sklearn.datasets import load_diabetes\n",
        "\n",
        "X, y = load_diabetes(return_X_y = True)\n",
        "\n",
        "X_train, X_test, y_train, y_test = train_test_split(X, y, test_size = 0.2, train_size=0.8, random_state = 4)\n",
        "\n",
        "\n",
        "print(X_test.shape)\n",
        "\n",
        "\n",
        "\n",
        "\n",
        "\n",
        "\n",
        "\n",
        "\n"
      ]
    },
    {
      "cell_type": "code",
      "source": [
        "#device agnostic code\n",
        "\n",
        "device = 'cuda' if torch.cuda.is_available() else 'cpu'\n",
        "\n",
        "X_train = torch.tensor(X_train, dtype=torch.float32).to(device)\n",
        "y_train = torch.tensor(y_train, dtype=torch.float32).to(device)\n",
        "X_test = torch.tensor(X_test, dtype=torch.float32).to(device)\n",
        "y_test = torch.tensor(y_test, dtype=torch.float32).to(device)\n",
        "\n",
        "class LinearModel01(nn.Module):\n",
        "\n",
        "  def __init__(self, input_features, output_features):\n",
        "\n",
        "    super().__init__()\n",
        "\n",
        "    self.Linear1 = nn.Linear(input_features, 4)\n",
        "\n",
        "    self.Linear4 = nn.Linear(4, output_features)\n",
        "\n",
        "\n",
        "\n",
        "  def forward(self, x):\n",
        "\n",
        "    x = self.Linear1(x)\n",
        "\n",
        "    x = torch.relu(x)\n",
        "\n",
        "    x = self.Linear4(x)\n",
        "\n",
        "    return x\n",
        "\n",
        "input_features = X.shape[1]\n",
        "\n",
        "output_features = 1\n",
        "\n",
        "model = LinearModel01(input_features, output_features).to(device)"
      ],
      "metadata": {
        "id": "1bBX-wsL4_8L"
      },
      "execution_count": 208,
      "outputs": []
    },
    {
      "cell_type": "code",
      "source": [
        "#Here is the training loop/visualization\n",
        "\n",
        "L1loss = nn.MSELoss()\n",
        "\n",
        "optimizer = torch.optim.SGD(model.parameters(), lr = 0.01)\n",
        "\n",
        "epochs = 900\n",
        "\n",
        "losses = []\n",
        "\n",
        "\n",
        "for epoch in range(epochs):\n",
        "\n",
        "\n",
        "\n",
        "  model.train()\n",
        "\n",
        "\n",
        "  #forward pass\n",
        "\n",
        "  y_preds = model(X_train)\n",
        "\n",
        "  loss = L1loss(y_preds, y_test)\n",
        "\n",
        "  if float\n",
        "\n",
        "  losses.append(float(loss))\n",
        "\n",
        "\n",
        "  #optimizer step\n",
        "\n",
        "  optimizer.zero_grad()\n",
        "\n",
        "  loss.backward()\n",
        "\n",
        "  optimizer.step()\n",
        "\n",
        "  model.eval()  # switch to evaluation mode\n",
        "\n",
        "  with torch.inference_mode():\n",
        "    if (epoch+1) % 10 == 0:\n",
        "        print(f\"Epoch [{epoch+1}/{epoch}], Loss: {loss:.4f}\")\n"
      ],
      "metadata": {
        "colab": {
          "base_uri": "https://localhost:8080/"
        },
        "id": "XcBr2M08ArTU",
        "outputId": "9de9df62-c5d8-47fe-cb69-4a6b779994a2"
      },
      "execution_count": 209,
      "outputs": [
        {
          "output_type": "stream",
          "name": "stdout",
          "text": [
            "Epoch [10/9], Loss: 24548.5625\n",
            "Epoch [20/19], Loss: 18201.7988\n",
            "Epoch [30/29], Loss: 13964.6504\n",
            "Epoch [40/39], Loss: 11135.8965\n",
            "Epoch [50/49], Loss: 9247.3975\n",
            "Epoch [60/59], Loss: 7986.6206\n",
            "Epoch [70/69], Loss: 7144.9155\n",
            "Epoch [80/79], Loss: 6582.9873\n",
            "Epoch [90/89], Loss: 6207.8384\n",
            "Epoch [100/99], Loss: 5957.3872\n",
            "Epoch [110/109], Loss: 5790.1836\n",
            "Epoch [120/119], Loss: 5678.5571\n",
            "Epoch [130/129], Loss: 5604.0352\n",
            "Epoch [140/139], Loss: 5554.2827\n",
            "Epoch [150/149], Loss: 5521.0669\n",
            "Epoch [160/159], Loss: 5498.8931\n",
            "Epoch [170/169], Loss: 5484.0889\n",
            "Epoch [180/179], Loss: 5474.2056\n",
            "Epoch [190/189], Loss: 5467.6074\n",
            "Epoch [200/199], Loss: 5463.2026\n",
            "Epoch [210/209], Loss: 5460.2622\n",
            "Epoch [220/219], Loss: 5458.2988\n"
          ]
        },
        {
          "output_type": "stream",
          "name": "stderr",
          "text": [
            "/usr/local/lib/python3.12/dist-packages/torch/nn/modules/loss.py:616: UserWarning: Using a target size (torch.Size([89])) that is different to the input size (torch.Size([353, 1])). This will likely lead to incorrect results due to broadcasting. Please ensure they have the same size.\n",
            "  return F.mse_loss(input, target, reduction=self.reduction)\n"
          ]
        },
        {
          "output_type": "stream",
          "name": "stdout",
          "text": [
            "Epoch [230/229], Loss: 5456.9873\n",
            "Epoch [240/239], Loss: 5456.1133\n",
            "Epoch [250/249], Loss: 5455.5288\n",
            "Epoch [260/259], Loss: 5455.1387\n",
            "Epoch [270/269], Loss: 5454.8789\n",
            "Epoch [280/279], Loss: 5454.7051\n",
            "Epoch [290/289], Loss: 5454.5889\n",
            "Epoch [300/299], Loss: 5454.5112\n",
            "Epoch [310/309], Loss: 5454.4595\n",
            "Epoch [320/319], Loss: 5454.4248\n",
            "Epoch [330/329], Loss: 5454.4014\n",
            "Epoch [340/339], Loss: 5454.3862\n",
            "Epoch [350/349], Loss: 5454.3765\n",
            "Epoch [360/359], Loss: 5454.3696\n",
            "Epoch [370/369], Loss: 5454.3647\n",
            "Epoch [380/379], Loss: 5454.3618\n",
            "Epoch [390/389], Loss: 5454.3594\n",
            "Epoch [400/399], Loss: 5454.3584\n",
            "Epoch [410/409], Loss: 5454.3569\n",
            "Epoch [420/419], Loss: 5454.3564\n",
            "Epoch [430/429], Loss: 5454.3560\n",
            "Epoch [440/439], Loss: 5454.3564\n",
            "Epoch [450/449], Loss: 5454.3555\n",
            "Epoch [460/459], Loss: 5454.3560\n",
            "Epoch [470/469], Loss: 5454.3560\n",
            "Epoch [480/479], Loss: 5454.3555\n",
            "Epoch [490/489], Loss: 5454.3555\n",
            "Epoch [500/499], Loss: 5454.3555\n",
            "Epoch [510/509], Loss: 5454.3555\n",
            "Epoch [520/519], Loss: 5454.3555\n",
            "Epoch [530/529], Loss: 5454.3555\n",
            "Epoch [540/539], Loss: 5454.3555\n",
            "Epoch [550/549], Loss: 5454.3555\n",
            "Epoch [560/559], Loss: 5454.3555\n",
            "Epoch [570/569], Loss: 5454.3555\n",
            "Epoch [580/579], Loss: 5454.3555\n",
            "Epoch [590/589], Loss: 5454.3555\n",
            "Epoch [600/599], Loss: 5454.3555\n",
            "Epoch [610/609], Loss: 5454.3555\n",
            "Epoch [620/619], Loss: 5454.3555\n",
            "Epoch [630/629], Loss: 5454.3550\n",
            "Epoch [640/639], Loss: 5454.3555\n",
            "Epoch [650/649], Loss: 5454.3555\n",
            "Epoch [660/659], Loss: 5454.3555\n",
            "Epoch [670/669], Loss: 5454.3555\n",
            "Epoch [680/679], Loss: 5454.3555\n",
            "Epoch [690/689], Loss: 5454.3555\n",
            "Epoch [700/699], Loss: 5454.3555\n",
            "Epoch [710/709], Loss: 5454.3555\n",
            "Epoch [720/719], Loss: 5454.3555\n",
            "Epoch [730/729], Loss: 5454.3555\n",
            "Epoch [740/739], Loss: 5454.3555\n",
            "Epoch [750/749], Loss: 5454.3555\n",
            "Epoch [760/759], Loss: 5454.3555\n",
            "Epoch [770/769], Loss: 5454.3555\n",
            "Epoch [780/779], Loss: 5454.3555\n",
            "Epoch [790/789], Loss: 5454.3555\n",
            "Epoch [800/799], Loss: 5454.3555\n",
            "Epoch [810/809], Loss: 5454.3555\n",
            "Epoch [820/819], Loss: 5454.3555\n",
            "Epoch [830/829], Loss: 5454.3555\n",
            "Epoch [840/839], Loss: 5454.3555\n",
            "Epoch [850/849], Loss: 5454.3555\n",
            "Epoch [860/859], Loss: 5454.3555\n",
            "Epoch [870/869], Loss: 5454.3555\n",
            "Epoch [880/879], Loss: 5454.3555\n",
            "Epoch [890/889], Loss: 5454.3555\n",
            "Epoch [900/899], Loss: 5454.3555\n"
          ]
        }
      ]
    },
    {
      "cell_type": "code",
      "source": [
        "epochNumpy = [i for i in range(900)]\n",
        "\n",
        "losses = np.array(losses)\n",
        "\n",
        "plt.scatter(epochNumpy, losses)\n",
        "\n"
      ],
      "metadata": {
        "colab": {
          "base_uri": "https://localhost:8080/",
          "height": 447
        },
        "id": "IQPwopNB52i6",
        "outputId": "5ff51f17-4139-46e3-c348-0a680790df14"
      },
      "execution_count": 210,
      "outputs": [
        {
          "output_type": "execute_result",
          "data": {
            "text/plain": [
              "<matplotlib.collections.PathCollection at 0x789a7f1a3c20>"
            ]
          },
          "metadata": {},
          "execution_count": 210
        },
        {
          "output_type": "display_data",
          "data": {
            "text/plain": [
              "<Figure size 640x480 with 1 Axes>"
            ],
            "image/png": "[encoded data removed]"
          },
          "metadata": {}
        }
      ]
    },
    {
      "cell_type": "code",
      "source": [
        "y_pred_test = model(X_test)\n",
        "\n",
        "y_pred_test = y_pred_test.detach().numpy()\n",
        "\n",
        "y_test = np.array(y_test)"
      ],
      "metadata": {
        "id": "IlMMPbl8WKiW"
      },
      "execution_count": 211,
      "outputs": []
    },
    {
      "cell_type": "code",
      "source": [
        "import statistics\n",
        "\n",
        "model.eval()\n",
        "\n",
        "with torch.inference_mode():\n",
        "\n",
        "\n",
        "  def accuracy(y_true, y_pred_test):\n",
        "      losses = []\n",
        "      for i in range(len(y_true)):\n",
        "          losses.append(abs(float(y_true[i]) - float(y_pred_test[i])))\n",
        "      return statistics.mean(losses)\n",
        "\n",
        "\n",
        "  print(accuracy(y_test, y_pred_test))"
      ],
      "metadata": {
        "colab": {
          "base_uri": "https://localhost:8080/"
        },
        "id": "NAIBn7IHQgv4",
        "outputId": "04a65934-bf3e-45c7-dee3-3cf98258cdc4"
      },
      "execution_count": 212,
      "outputs": [
        {
          "output_type": "stream",
          "name": "stdout",
          "text": [
            "62.046167780844016\n"
          ]
        },
        {
          "output_type": "stream",
          "name": "stderr",
          "text": [
            "/tmp/ipython-input-779862223.py:11: DeprecationWarning: Conversion of an array with ndim > 0 to a scalar is deprecated, and will error in future. Ensure you extract a single element from your array before performing this operation. (Deprecated NumPy 1.25.)\n",
            "  losses.append(abs(float(y_true[i]) - float(y_pred_test[i])))\n"
          ]
        }
      ]
    }
  ]
}